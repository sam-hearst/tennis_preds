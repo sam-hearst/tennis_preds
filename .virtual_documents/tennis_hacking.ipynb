import numpy as np
import pandas as pd



some_data = np.random.randint(low=0,high=100,size=(1000,11))


some_data


df = pd.DataFrame(some_data,
                  index=list("match_{}".format(i) for i in range(some_data.shape[0])),
                  columns= list("WIN_feat{}".format(i) for i in range(5)) + 
                           list("LOS_feat{}".format(i) for i in range(5))  + ["NULL"])


df


formatted_mock_df = pd.DataFrame(some_data, 
                      columns=list("HR_feat{}".format(i) for i in range(5)) + 
                      list("LR_feat{}".format(i) for i in range(5)) + ["HR_win"],
                      index=df.index)
formatted_mock_df['HR_win'] = np.where(formatted_mock_df['HR_win'] > 50, 1, 0)

formatted_mock_df








for index,row in df.iterrows():
    if row["WIN_feat0"] < row["LOS_feat0"]:

        new_df.loc[index,list("HR_feat{}".format(i) for i in range(5))] = list(df.loc[index,list("WIN_feat{}".format(i) for i in range(5))])
        new_df.loc[index,list("LR_feat{}".format(i) for i in range(5))] = list(df.loc[index,list("LOS_feat{}".format(i) for i in range(5))])
        new_df.loc[index,"HR_win"] = 1
    else:

        new_df.loc[index,list("LR_feat{}".format(i) for i in range(5))] = list(df.loc[index,list("WIN_feat{}".format(i) for i in range(5))])
        new_df.loc[index,list("HR_feat{}".format(i) for i in range(5))] = list(df.loc[index,list("LOS_feat{}".format(i) for i in range(5))])
        new_df.loc[index,"HR_win"] = 0


new_df


df




































