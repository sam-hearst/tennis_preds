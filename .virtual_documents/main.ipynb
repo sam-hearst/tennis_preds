import pandas as pd
import numpy as np
import matplotlib.pyplot as plt
import glob # for combining csvs


data_files = glob.glob('./data/*.csv')


df = pd.concat(
  (pd.read_csv(filename) for filename in data_files), 
  ignore_index=True
)

df


df.info()


df = df.sort_values(by='tourney_date')


df[df['winner_rank'].isna()]


# EDA


df.info()


df.drop_duplicates(inplace=True)


df.info() # no duplicates!


# checking for nulls


df.isna().sum(axis=0).sort_values(ascending=False)


missing_stats = df.isna().sum(axis=0).sort_values(ascending=False)/df.shape[0]
missing_stats





df[df['winner_rank'].isna()].info()


non_null_fltr1 = df['winner_rank'].notna()
non_null_fltr2 = df['loser_rank'].notna()

# remove those rows, they are a small portion of data
df = df.loc[non_null_fltr1 | non_null_fltr2, :]


df['winner_rank'].value_counts(dropna=False)
df['loser_rank'].value_counts(dropna=False)

# confirmed removed








df['tourney_level'].value_counts()


# update dtype to str


tourney_fltr = ((df['tourney_level'] == 'M') | (df['tourney_level'] == 'G'))

# remove those rows because they're small portion of data
df = df.loc[tourney_fltr, :]


df['tourney_level'].value_counts()








higher_rnk_fltr = df['winner_rank'] < df['loser_rank']

df[higher_rnk_fltr].shape[0] / df.shape[0]

















from sklearn.linear_model import LogisticRegression





df.info()









