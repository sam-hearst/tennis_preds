import pandas as pd
import numpy as np
import matplotlib.pyplot as plt
import glob # for combining csvs


data_files = glob.glob('./data/*.csv')





df = pd.concat(
  (pd.read_csv(filename) for filename in data_files), 
  ignore_index=True
)

df
df_raw = df





df.info()


df = df.sort_values(by=['tourney_date', 'tourney_name'])
df





df.shape


df.drop_duplicates(inplace=True)


df.shape # no duplicates


# checking for nulls
df.isna().sum(axis=0).sort_values(ascending=False)


missing_stats = df.isna().sum(axis=0).sort_values(ascending=False)/df.shape[0]
missing_stats





df.drop(columns=['winner_entry', 'loser_entry', 'loser_seed', 'winner_seed'], inplace=True)


missing_stats = df.isna().sum(axis=0).sort_values(ascending=False)/df.shape[0]
missing_stats





df.drop(columns=['minutes','w_ace','w_df','w_svpt','w_1stIn','w_1stWon','w_2ndWon','w_SvGms','w_bpSaved','w_bpFaced','l_ace','l_df','l_svpt','l_1stIn','l_1stWon','l_2ndWon','l_SvGms','l_bpSaved','l_bpFaced'], inplace=True)


missing_stats = df.isna().sum(axis=0).sort_values(ascending=False)/df.shape[0]
missing_stats





df.dropna(subset=['loser_ht', 'winner_ht'], inplace=True)


df.isna().sum(axis=0).sort_values(ascending=False)/df.shape[0]





df.drop(columns=['loser_rank_points', 'winner_rank_points'], inplace=True)


df.dropna(subset=['loser_rank', 'winner_rank'], inplace=True)


df.isna().sum(axis=0).sort_values(ascending=False)/df.shape[0]





# rank_filtr = (df['winner_rank'] - df['loser_rank']) > 600
# tourney_fltr = ((df['tourney_level'] == 'M') | (df['tourney_level'] == 'G'))

# df[rank_filtr & tourney_fltr].shape


df.drop(columns=['round', 'surface', 'tourney_id', 'tourney_name', 'draw_size', 'tourney_date', 'match_num'], inplace=True)


df.isna().sum(axis=0).sort_values(ascending=False)/df.shape[0]





df['tourney_level'].value_counts()


tourney_fltr = ((df['tourney_level'] == 'M') | (df['tourney_level'] == 'G'))

df_filtered = df.loc[tourney_fltr, :]


df_filtered['tourney_level'].value_counts()


df_filtered.info()





df_filtered = df_filtered.select_dtypes('number')


df_filtered.info()





df_filtered.drop(columns=['winner_id', 'loser_id'], inplace=True)


df_filtered.info()


df_filtered





suffix_to_append = ['_rank', '_ht', '_age']
final_df = pd.DataFrame(columns=list("HR" + ele for ele in suffix_to_append) + 
                            list("LR" + ele for ele in suffix_to_append)  + ['best_of'] + ["HR_win"],
                      index=df_filtered.index)


final_df


for index,row in df_filtered.iterrows():
    if row["winner_rank"] < row["loser_rank"]:

        final_df.loc[index,list("HR" + ele for ele in suffix_to_append)] = list(df.loc[index,list("winner" + ele for ele in suffix_to_append)])
        final_df.loc[index,list("LR" + ele for ele in suffix_to_append)] = list(df.loc[index,list("loser" + ele for ele in suffix_to_append)])
        final_df.loc[index,"HR_win"] = 1
        final_df.loc[index,"best_of"] = row['best_of']
    else:

        final_df.loc[index,list("LR" + ele for ele in suffix_to_append)] = list(df.loc[index,list("winner" + ele for ele in suffix_to_append)])
        final_df.loc[index,list("HR" + ele for ele in suffix_to_append)] = list(df.loc[index,list("loser" + ele for ele in suffix_to_append)])
        final_df.loc[index,"HR_win"] = 0
        final_df.loc[index,"best_of"] = row['best_of']


final_df


final_df.info()


df_obj_cols = final_df.select_dtypes(include='object').columns

final_df[df_obj_cols] = final_df[df_obj_cols].apply(pd.to_numeric, errors='coerce')


final_df.info()





final_df['ranking_difference'] = final_df['LR_rank'] - final_df['HR_rank']











import matplotlib.pyplot as plt
import seaborn as sns


final_df['HR_win'].sum() / final_df.shape[0]





final_df['HR_age'].mean()


final_df['LR_age'].mean()





plt.scatter(final_df['HR_age'], final_df['HR_win'])
plt.xlabel('HR_rank')
plt.ylabel('Target')
plt.title('Age of HR vs Target')
plt.show()


plt.scatter(final_df['LR_age'], final_df['HR_win'])
plt.xlabel('LR_rank')
plt.ylabel('Target')
plt.title('Age of LR vs Target')
plt.show()





final_df.sample(10)





plt.scatter(final_df['ranking_difference'], final_df['HR_win'])
plt.xlabel('rank difference')
plt.ylabel('Target')
plt.title('Rank Diff vs Target')
plt.show()


sns.boxplot(x='HR_win', y='ranking_difference', data=final_df)
plt.xlabel('HR_win')
plt.ylabel('Ranking Diff')
plt.title('Rank Diff vs Target')
plt.show()


rank_filtr = final_df['ranking_difference'] > 600
LR_filtr = final_df['HR_win'] == 0
HR_filtr = final_df['HR_win'] == 1


# final_df.loc[(rank_filtr & LR_filtr), :]
final_df[rank_filtr & LR_filtr].shape





final_df[LR_filtr]['ranking_difference'].mean()


final_df[HR_filtr]['ranking_difference'].mean()











from sklearn.linear_model import LogisticRegression
from sklearn.model_selection import train_test_split


y = final_df['HR_win']
X = final_df.drop(columns=['HR_win'])

X


X_train, X_test, y_train, y_test = train_test_split(X, y, test_size=0.25, random_state=43, stratify=y)


# Fitting logistic regression model
logreg = LogisticRegression()
logreg.fit(X_train, y_train)

# Training and test score
print(f"Train score: {logreg.score(X_train, y_train)}")
print(f"Test score: {logreg.score(X_test, y_test)}")


coefficients = logreg.coef_[0]
coefficients


feature_names = X_train.columns

coefficients = logreg.coef_[0]

for feat, coef in zip(feature_names, coefficients):
    print(f"feature: {feat}, coefficent: {coef}")





from sklearn.preprocessing import StandardScaler


scaler = StandardScaler()

X_train_scaled = scaler.fit_transform(X_train)
X_test_scaled = scaler.transform(X_test)

logreg_scaled = LogisticRegression(C=1)
logreg_scaled.fit(X_train_scaled, y_train)

coefficients = logreg_scaled.coef_[0]


print(f"Train score: {logreg_scaled.score(X_train_scaled, y_train)}")
print(f"Test score: {logreg_scaled.score(X_test_scaled, y_test)}")


feature_names = X_train.columns

coefficients = logreg_scaled.coef_[0]

for feat, coef in zip(feature_names, coefficients):
    print(f"feature: {feat}, coefficent: {coef}")


# make all the feature differences, and throw out the HR and LR, and then try random forest - nonlinear model
# add a couple more features (ie win pct on surface)


# obj = {player_name: [.87, .78, .85] 








final_df


final_df['height_diff'] = final_df['HR_ht'] - final_df['LR_ht']
final_df['age_diff'] = final_df['HR_age'] - final_df['LR_age']


final_df.drop(columns=['HR_ht', 'LR_ht', 'HR_age', 'LR_age', 'HR_rank', 'LR_rank'], inplace=True)


final_df


from sklearn.model_selection import train_test_split
from sklearn.ensemble import RandomForestClassifier
from sklearn.preprocessing import StandardScaler
from sklearn.metrics import accuracy_score


y = final_df['HR_win']
X = final_df.drop(columns=['HR_win'])

X


X_train, X_test, y_train, y_test = train_test_split(X, y, test_size=0.25, random_state=42, stratify=y)


# Without scaling
rf = RandomForestClassifier(n_estimators=100, random_state=42, max_depth=5)
rf.fit(X_train, y_train)


rf.score(X_train,y_train) # for unlimited depth trees, training acc always 1.0


rf.score(X_test,y_test)


# With scaling
scaler = StandardScaler()
X_train_scaled = scaler.fit_transform(X_train)
X_test_scaled = scaler.transform(X_test)

rf_scaled = RandomForestClassifier(n_estimators=100, random_state=42, max_depth=5)
rf_scaled.fit(X_train_scaled, y_train)


rf_scaled.score(X_train_scaled,y_train) # for unlimited depth trees, training acc always 1.0


rf_scaled.score(X_test_scaled,y_test)




















some_data = np.random.randint(low=0,high=100,size=(1000,11))


mock_df_raw = pd.DataFrame(some_data,
                  index=list("match_{}".format(i) for i in range(some_data.shape[0])),
                  columns= list("WIN_feat{}".format(i) for i in range(5)) + 
                           list("LOS_feat{}".format(i) for i in range(5))  + ["NULL"])

mock_df_raw


formatted_mock_df = pd.DataFrame(some_data, 
                      columns=list("HR_feat{}".format(i) for i in range(5)) + 
                      list("LR_feat{}".format(i) for i in range(5)) + ["HR_win"],
                      index=mock_df.index)
formatted_mock_df['HR_win'] = np.where(formatted_mock_df['HR_win'] > 50, 1, 0)

formatted_mock_df


pd.set_option('display.max_columns', 100)
df_raw


final_df




















plt.scatter(final_df['HR_age'], final_df['HR_win'])
plt.xlabel('HR_rank')
plt.ylabel('Target')
plt.title('Age of HR vs Target')
plt.show()


plt.scatter(final_df['LR_age'], final_df['HR_win'])
plt.xlabel('LR_rank')
plt.ylabel('Target')
plt.title('Age of LR vs Target')
plt.show()


sns.boxplot(x='HR_win', y='HR_age', data=final_df)
plt.xlabel('HR_win')
plt.ylabel('HR_age')
plt.title('Age of HR vs Target')
plt.show()


sns.boxplot(x='HR_win', y='LR_age', data=final_df)
plt.xlabel('HR_win')
plt.ylabel('LR_age')
plt.title('Age of LR vs Target')
plt.show()


















