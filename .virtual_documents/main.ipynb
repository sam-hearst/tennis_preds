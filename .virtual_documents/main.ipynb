import pandas as pd
import numpy as np
import matplotlib.pyplot as plt
import glob # for combining csvs


data_files = glob.glob('./data/*.csv')





df = pd.concat(
  (pd.read_csv(filename) for filename in data_files), 
  ignore_index=True
)

df
df_raw = df





df.info()


df = df.sort_values(by='tourney_date')
df





df.shape


df.drop_duplicates(inplace=True)


df.shape # no duplicates


# checking for nulls
df.isna().sum(axis=0).sort_values(ascending=False)


missing_stats = df.isna().sum(axis=0).sort_values(ascending=False)/df.shape[0]
missing_stats





df.drop(columns=['winner_entry', 'loser_entry', 'loser_seed', 'winner_seed'], inplace=True)


missing_stats = df.isna().sum(axis=0).sort_values(ascending=False)/df.shape[0]
missing_stats





df.drop(columns=['minutes','w_ace','w_df','w_svpt','w_1stIn','w_1stWon','w_2ndWon','w_SvGms','w_bpSaved','w_bpFaced','l_ace','l_df','l_svpt','l_1stIn','l_1stWon','l_2ndWon','l_SvGms','l_bpSaved','l_bpFaced'], inplace=True)


missing_stats = df.isna().sum(axis=0).sort_values(ascending=False)/df.shape[0]
missing_stats





df.dropna(subset=['loser_ht', 'winner_ht'], inplace=True)


df.isna().sum(axis=0).sort_values(ascending=False)/df.shape[0]





df.drop(columns=['loser_rank_points', 'winner_rank_points'], inplace=True)














df[df['winner_rank'].isna()].info()


non_null_fltr1 = df['winner_rank'].notna()
non_null_fltr2 = df['loser_rank'].notna()

# remove those rows, they are a small portion of data
df = df.loc[non_null_fltr1 | non_null_fltr2, :]


df['winner_rank'].value_counts(dropna=False)
df['loser_rank'].value_counts(dropna=False)

# confirmed removed








df['tourney_level'].value_counts()


# update dtype to str


tourney_fltr = ((df['tourney_level'] == 'M') | (df['tourney_level'] == 'G'))

# remove those rows because they're small portion of data
df = df.loc[tourney_fltr, :]


df['tourney_level'].value_counts()








higher_rnk_fltr = df['winner_rank'] < df['loser_rank']

df[higher_rnk_fltr].shape[0] / df.shape[0]














from sklearn.linear_model import LogisticRegression





df.info()


df_final = df.copy()


df.info()


df_final = df_final.select_dtypes('number')

df_final


df_final.isna().sum(axis=0).sort_values(ascending=False)
























































some_data = np.random.randint(low=0,high=100,size=(1000,11))


mock_df_raw = pd.DataFrame(some_data,
                  index=list("match_{}".format(i) for i in range(some_data.shape[0])),
                  columns= list("WIN_feat{}".format(i) for i in range(5)) + 
                           list("LOS_feat{}".format(i) for i in range(5))  + ["NULL"])

mock_df_raw


formatted_mock_df = pd.DataFrame(some_data, 
                      columns=list("HR_feat{}".format(i) for i in range(5)) + 
                      list("LR_feat{}".format(i) for i in range(5)) + ["HR_win"],
                      index=mock_df.index)
formatted_mock_df['HR_win'] = np.where(formatted_mock_df['HR_win'] > 50, 1, 0)

formatted_mock_df


pd.set_option('display.max_columns', 100)
df_raw


df_final









