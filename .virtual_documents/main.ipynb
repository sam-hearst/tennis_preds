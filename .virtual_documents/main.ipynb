import pandas as pd
import numpy as np
import matplotlib.pyplot as plt
import glob # for combining csvs


data_files = glob.glob('./data/*.csv')





df = pd.concat(
  (pd.read_csv(filename) for filename in data_files), 
  ignore_index=True
)

df
df_raw = df





df.info()


df = df.sort_values(by='tourney_date')
df





df.shape


df.drop_duplicates(inplace=True)


df.shape # no duplicates


# checking for nulls
df.isna().sum(axis=0).sort_values(ascending=False)


missing_stats = df.isna().sum(axis=0).sort_values(ascending=False)/df.shape[0]
missing_stats





df.drop(columns=['winner_entry', 'loser_entry', 'loser_seed', 'winner_seed'], inplace=True)


missing_stats = df.isna().sum(axis=0).sort_values(ascending=False)/df.shape[0]
missing_stats





df.drop(columns=['minutes','w_ace','w_df','w_svpt','w_1stIn','w_1stWon','w_2ndWon','w_SvGms','w_bpSaved','w_bpFaced','l_ace','l_df','l_svpt','l_1stIn','l_1stWon','l_2ndWon','l_SvGms','l_bpSaved','l_bpFaced'], inplace=True)


missing_stats = df.isna().sum(axis=0).sort_values(ascending=False)/df.shape[0]
missing_stats





df.dropna(subset=['loser_ht', 'winner_ht'], inplace=True)


df.isna().sum(axis=0).sort_values(ascending=False)/df.shape[0]





df.drop(columns=['loser_rank_points', 'winner_rank_points'], inplace=True)


df.dropna(subset=['loser_rank', 'winner_rank'], inplace=True)


df.isna().sum(axis=0).sort_values(ascending=False)/df.shape[0]





df.drop(columns=['round', 'surface', 'tourney_id', 'tourney_name', 'draw_size', 'tourney_date', 'match_num'], inplace=True)


df.isna().sum(axis=0).sort_values(ascending=False)/df.shape[0]





df['tourney_level'].value_counts()


tourney_fltr = ((df['tourney_level'] == 'M') | (df['tourney_level'] == 'G'))

df_filtered = df.loc[tourney_fltr, :]


df['tourney_level'].value_counts()


df.info()


df_filtered.info()





df_filtered = df_filtered.select_dtypes('number')


df_filtered.info()





df_filtered.drop(columns=['winner_id', 'loser_id'], inplace=True)


df_filtered.info()


df_filtered





suffix_to_append = ['_rank', '_ht', '_age']
final_df = pd.DataFrame(columns=list("HR" + ele for ele in suffix_to_append) + 
                            list("LR" + ele for ele in suffix_to_append)  + ['best_of'] + ["HR_win"],
                      index=df_filtered.index)


final_df


for index,row in df_filtered.iterrows():
    if row["winner_rank"] < row["loser_rank"]:

        final_df.loc[index,list("HR" + ele for ele in suffix_to_append)] = list(df.loc[index,list("winner" + ele for ele in suffix_to_append)])
        final_df.loc[index,list("LR" + ele for ele in suffix_to_append)] = list(df.loc[index,list("loser" + ele for ele in suffix_to_append)])
        final_df.loc[index,"HR_win"] = 1
        final_df.loc[index,"best_of"] = row['best_of']
    else:

        final_df.loc[index,list("LR" + ele for ele in suffix_to_append)] = list(df.loc[index,list("winner" + ele for ele in suffix_to_append)])
        final_df.loc[index,list("HR" + ele for ele in suffix_to_append)] = list(df.loc[index,list("loser" + ele for ele in suffix_to_append)])
        final_df.loc[index,"HR_win"] = 0
        final_df.loc[index,"best_of"] = row['best_of']


final_df


final_df['ranking_difference'] = final_df['LR_rank'] - final_df['HR_rank']
final_df











import matplotlib.pyplot as plt
import seaborn as sns


final_df['HR_win'].sum() / final_df.shape[0]





final_df['HR_age'].mean()


final_df['LR_age'].mean()





plt.scatter(final_df['HR_age'], final_df['HR_win'])
plt.xlabel('HR_rank')
plt.ylabel('Target')
plt.title('Age of HR vs Target')
plt.show()


plt.scatter(final_df['LR_age'], final_df['HR_win'])
plt.xlabel(':R_rank')
plt.ylabel('Target')
plt.title('Age of LR vs Target')
plt.show()





from sklearn.linear_model import LogisticRegression
from sklearn.model_selection import train_test_split


final_df['HR_win'] = final_df['HR_win'].astype('int')
y = final_df['HR_win']
X = final_df.drop(columns=['HR_win'])
X


X_train, X_test, y_train, y_test = train_test_split(X, y, test_size=0.25, random_state=42, stratify=y)


# Fitting a logistic regression model
logreg = LogisticRegression(C = 5, max_iter=1000)
logreg.fit(X_train, y_train)

# Training and test score
print(f"Train score: {logreg.score(X_train, y_train)}")
print(f"Test score: {logreg.score(X_test, y_test)}")


coefficients = logreg.coef_[0]
coefficients


feature_names = X_train.columns

coefficients = logreg.coef_[0]

for feat, coef in zip(feature_names, coefficients):
    print(f"feature: {feat}, coefficent: {coef}")






































some_data = np.random.randint(low=0,high=100,size=(1000,11))


mock_df_raw = pd.DataFrame(some_data,
                  index=list("match_{}".format(i) for i in range(some_data.shape[0])),
                  columns= list("WIN_feat{}".format(i) for i in range(5)) + 
                           list("LOS_feat{}".format(i) for i in range(5))  + ["NULL"])

mock_df_raw


formatted_mock_df = pd.DataFrame(some_data, 
                      columns=list("HR_feat{}".format(i) for i in range(5)) + 
                      list("LR_feat{}".format(i) for i in range(5)) + ["HR_win"],
                      index=mock_df.index)
formatted_mock_df['HR_win'] = np.where(formatted_mock_df['HR_win'] > 50, 1, 0)

formatted_mock_df


pd.set_option('display.max_columns', 100)
df_raw


final_df





plt.scatter(final_df['HR_age'], final_df['HR_win'])
plt.xlabel('HR_rank')
plt.ylabel('Target')
plt.title('Age of HR vs Target')
plt.show()


plt.scatter(final_df['LR_age'], final_df['HR_win'])
plt.xlabel('LR_rank')
plt.ylabel('Target')
plt.title('Age of LR vs Target')
plt.show()


sns.boxplot(x='HR_win', y='HR_ht', data=final_df)
plt.xlabel('Target')
plt.ylabel('Feature')
plt.title('Height of HR vs Target')
plt.show()



